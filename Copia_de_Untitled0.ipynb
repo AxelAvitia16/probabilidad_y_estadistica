{
  "nbformat": 4,
  "nbformat_minor": 0,
  "metadata": {
    "colab": {
      "provenance": [],
      "authorship_tag": "ABX9TyOyuSxnSis6zusoFm4U7eBR",
      "include_colab_link": true
    },
    "kernelspec": {
      "name": "python3",
      "display_name": "Python 3"
    },
    "language_info": {
      "name": "python"
    }
  },
  "cells": [
    {
      "cell_type": "markdown",
      "metadata": {
        "id": "view-in-github",
        "colab_type": "text"
      },
      "source": [
        "<a href=\"https://colab.research.google.com/github/AxelAvitia16/probabilidad_y_estadistica/blob/main/Copia_de_Untitled0.ipynb\" target=\"_parent\"><img src=\"https://colab.research.google.com/assets/colab-badge.svg\" alt=\"Open In Colab\"/></a>"
      ]
    },
    {
      "cell_type": "markdown",
      "source": [],
      "metadata": {
        "id": "szVvbZPjAltI"
      }
    },
    {
      "cell_type": "markdown",
      "source": [
        "probabilidad y estadistica\n",
        "unidad 1\n",
        "practica 1\n",
        "estadistica descriptiva basica e histogramas\n",
        "facilitador:Jose Gabriel Muñoz\n",
        "Alumno:Axel Eduardo Lopez Avitia"
      ],
      "metadata": {
        "id": "AmJES2h1A1J7"
      }
    },
    {
      "cell_type": "code",
      "execution_count": null,
      "metadata": {
        "id": "Vj0mvLep7rIW"
      },
      "outputs": [],
      "source": [
        "from statistics import*\n"
      ]
    },
    {
      "cell_type": "code",
      "source": [
        "#lista de calificaciones del grupo a de probabilida y estadistica\n",
        "grupoa = [70,70,65,90,100,95,45,80,73,20,100,96]\n",
        "print(grupoa)\n"
      ],
      "metadata": {
        "id": "bBap7fLD76cg",
        "colab": {
          "base_uri": "https://localhost:8080/"
        },
        "outputId": "879ac23f-aaad-45cf-d07e-fff297af5e5a"
      },
      "execution_count": null,
      "outputs": [
        {
          "output_type": "stream",
          "name": "stdout",
          "text": [
            "[70, 70, 65, 90, 100, 95, 45, 80, 73, 20, 100, 96]\n"
          ]
        }
      ]
    },
    {
      "cell_type": "markdown",
      "source": [
        "[70,70,65,90,100,95,45,80,73,20,100,96]"
      ],
      "metadata": {
        "id": "12IxyuiI9YCI"
      }
    },
    {
      "cell_type": "code",
      "source": [
        "#La funcion de type nos devuelve el tipo de dato de la varaiable(grupoa)"
      ],
      "metadata": {
        "id": "8RjM3bOe9wxC"
      },
      "execution_count": null,
      "outputs": []
    },
    {
      "cell_type": "code",
      "source": [
        "#Sacar la media de las calificaciones con una formula\n",
        "promedio = sum(grupoa)/len(grupoa)\n",
        "print(promedio)"
      ],
      "metadata": {
        "colab": {
          "base_uri": "https://localhost:8080/"
        },
        "collapsed": true,
        "id": "ZwFA3mdD-KkN",
        "outputId": "cbdf5920-f6cd-476f-dd86-4aef30a2746a"
      },
      "execution_count": null,
      "outputs": [
        {
          "output_type": "stream",
          "name": "stdout",
          "text": [
            "75.33333333333333\n"
          ]
        }
      ]
    },
    {
      "cell_type": "markdown",
      "source": [
        "75.333333333"
      ],
      "metadata": {
        "id": "utrA5ZEf-7M3"
      }
    },
    {
      "cell_type": "code",
      "source": [
        "#Utiliza la funcion mean que estaen la libreria statistics para sacar el promedio\n",
        "promedio2 = mean(grupoa)\n",
        "print(promedio2)\n"
      ],
      "metadata": {
        "id": "lig_j8Id-vod",
        "colab": {
          "base_uri": "https://localhost:8080/"
        },
        "outputId": "2153a300-b601-4054-a79d-817c85fd9acf"
      },
      "execution_count": null,
      "outputs": [
        {
          "output_type": "stream",
          "name": "stdout",
          "text": [
            "75.33333333333333\n"
          ]
        }
      ]
    },
    {
      "cell_type": "markdown",
      "source": [
        "75.333333333"
      ],
      "metadata": {
        "id": "LFMP0yeV_kgk"
      }
    },
    {
      "cell_type": "code",
      "source": [
        "#determina el valor de la mediana con la funcion median\n",
        "mediana = median(grupoa)\n",
        "print(mediana)\n"
      ],
      "metadata": {
        "id": "Ba-QwvvQ_o7-",
        "colab": {
          "base_uri": "https://localhost:8080/"
        },
        "outputId": "c09b7a77-75ab-434d-80b7-77134316538b"
      },
      "execution_count": null,
      "outputs": [
        {
          "output_type": "stream",
          "name": "stdout",
          "text": [
            "76.5\n"
          ]
        }
      ]
    },
    {
      "cell_type": "markdown",
      "source": [
        "76.5"
      ],
      "metadata": {
        "id": "CrasM_yoANEi"
      }
    },
    {
      "cell_type": "code",
      "source": [
        "#Determina el valor de la modacon la fucion mode\n",
        "moda = mode (grupoa)\n",
        "print(moda)\n"
      ],
      "metadata": {
        "id": "UFEqS3zlAUoR",
        "colab": {
          "base_uri": "https://localhost:8080/"
        },
        "outputId": "0d4e8925-98a9-469b-a542-6f75e7f5f76f"
      },
      "execution_count": null,
      "outputs": [
        {
          "output_type": "stream",
          "name": "stdout",
          "text": [
            "70\n"
          ]
        }
      ]
    },
    {
      "cell_type": "markdown",
      "source": [
        "70"
      ],
      "metadata": {
        "id": "tKkiOn_eh4v4"
      }
    },
    {
      "cell_type": "code",
      "source": [
        "#En caso de que exista mas de una modase puede emplear la funcion multimode para multiples modas que puedan existir\n",
        "moda2 = multimode(grupoa)\n",
        "print(moda2)\n"
      ],
      "metadata": {
        "colab": {
          "base_uri": "https://localhost:8080/"
        },
        "id": "MAQykHt1h7E3",
        "outputId": "3d2e3cc1-78ea-4a94-d28a-2eefb3db2fe0"
      },
      "execution_count": null,
      "outputs": [
        {
          "output_type": "stream",
          "name": "stdout",
          "text": [
            "[70, 100]\n"
          ]
        }
      ]
    },
    {
      "cell_type": "markdown",
      "source": [
        "70, 100"
      ],
      "metadata": {
        "id": "hry_07SFil_5"
      }
    },
    {
      "cell_type": "markdown",
      "source": [
        "Ejemplo 2. tiempo de 100 metros de un grupo de 12 alumnos"
      ],
      "metadata": {
        "id": "xVLiXAI8iy2y"
      }
    },
    {
      "cell_type": "code",
      "source": [
        "#definimos temporalmente la variable llamada tiempos 100\n",
        "#tiempos que tardaron los 10 alumnos para recorrer los 100 mts\n",
        "tiempos100mts = [15.10,17.20,14.69,13.27,22.15,18.71,19.15,20.65,15.10,17.20]\n",
        "#Desplegamos los valores de la lista\n",
        "print(tiempos100mts)\n"
      ],
      "metadata": {
        "id": "3Gg-HkRFjHUI",
        "colab": {
          "base_uri": "https://localhost:8080/"
        },
        "outputId": "b362dd40-bf76-48d8-a99d-6d007d54430d"
      },
      "execution_count": null,
      "outputs": [
        {
          "output_type": "stream",
          "name": "stdout",
          "text": [
            "[15.1, 17.2, 14.69, 13.27, 22.15, 18.71, 19.15, 20.65, 15.1, 17.2]\n"
          ]
        }
      ]
    },
    {
      "cell_type": "markdown",
      "source": [
        "15.1,17.2,14.69,13.27,22.15,18.71,19.15,20.65,15.1,17.2"
      ],
      "metadata": {
        "id": "NI9zmjiGnGgF"
      }
    },
    {
      "cell_type": "markdown",
      "source": [
        "Función mean para calcular el promedio"
      ],
      "metadata": {
        "id": "lU0oX4E6VP5K"
      }
    },
    {
      "cell_type": "code",
      "source": [
        "#Usamos la funcion mean para determinar el tiempo promedio de la lista de valores\n",
        "print(\"El tiempo promedio de los corredores es=\",mean(tiempos100mts))"
      ],
      "metadata": {
        "colab": {
          "base_uri": "https://localhost:8080/"
        },
        "id": "qeqEZPfvVrdJ",
        "outputId": "28bbf881-ff58-4b4b-8a1f-76aa5104a3e4"
      },
      "execution_count": null,
      "outputs": [
        {
          "output_type": "stream",
          "name": "stdout",
          "text": [
            "El tiempo promedio de los corredores es= 17.322\n"
          ]
        }
      ]
    },
    {
      "cell_type": "markdown",
      "source": [
        "El tiempo promedio de los corredores es= 17.322"
      ],
      "metadata": {
        "id": "_FPzRRUSVyCV"
      }
    },
    {
      "cell_type": "code",
      "source": [
        "moda = mode(tiempos100mts)\n",
        "print(\"La moda de los tiempos de los corredores es=\",moda)"
      ],
      "metadata": {
        "colab": {
          "base_uri": "https://localhost:8080/"
        },
        "id": "DUACw4c4VzOa",
        "outputId": "51724e7a-e07c-48d4-8ce4-cd28bb33b297"
      },
      "execution_count": null,
      "outputs": [
        {
          "output_type": "stream",
          "name": "stdout",
          "text": [
            "La moda de los tiempos de los corredores es= 15.1\n"
          ]
        }
      ]
    },
    {
      "cell_type": "markdown",
      "source": [
        "La moda de los tiempos de los corredores es= 15.1"
      ],
      "metadata": {
        "id": "7TYqxZKHWN4e"
      }
    },
    {
      "cell_type": "code",
      "source": [
        "multimodas = multimode(tiempos100mts)\n",
        "print(\"La moda de los tiempos  es=\",multimodas)"
      ],
      "metadata": {
        "colab": {
          "base_uri": "https://localhost:8080/"
        },
        "id": "6nKWMK_cWnk4",
        "outputId": "c6e2321e-12e0-46c7-84c0-23f61cfb7c2d"
      },
      "execution_count": null,
      "outputs": [
        {
          "output_type": "stream",
          "name": "stdout",
          "text": [
            "La moda de los tiempos  es= [15.1, 17.2]\n"
          ]
        }
      ]
    },
    {
      "cell_type": "markdown",
      "source": [
        "La moda de los tiempos  es= [15.1, 17.2]"
      ],
      "metadata": {
        "id": "JoZUvoIzXNaX"
      }
    },
    {
      "cell_type": "markdown",
      "source": [
        "Ejemplo 3: Histogramas de 2 grupos"
      ],
      "metadata": {
        "id": "NvnuSnDlXhTg"
      }
    },
    {
      "cell_type": "code",
      "source": [
        "#Libreria para generar numeros aleatorios\n",
        "import random"
      ],
      "metadata": {
        "id": "ntvH5LVkXmwd"
      },
      "execution_count": null,
      "outputs": []
    },
    {
      "cell_type": "code",
      "source": [
        "fabrica1 = []\n",
        "for i in range(100):\n",
        "  numero_aleatorio = round(random.uniform(50, 100), 2)\n",
        "  fabrica1.append(numero_aleatorio)\n",
        "print(fabrica1)"
      ],
      "metadata": {
        "colab": {
          "base_uri": "https://localhost:8080/"
        },
        "id": "Xp-9seEYYUqz",
        "outputId": "b6a874fa-81a0-4fa7-b15b-97dc56810df7"
      },
      "execution_count": null,
      "outputs": [
        {
          "output_type": "stream",
          "name": "stdout",
          "text": [
            "[55.74, 65.83, 76.2, 78.89, 80.71, 88.39, 66.86, 87.21, 96.21, 61.81, 70.62, 88.49, 79.09, 97.71, 93.16, 91.23, 90.78, 78.67, 50.94, 55.52, 65.29, 78.15, 98.8, 73.95, 91.67, 65.36, 74.7, 67.98, 57.09, 62.86, 72.63, 76.21, 73.54, 67.86, 89.27, 53.76, 60.33, 79.27, 58.4, 52.91, 54.23, 72.41, 69.84, 99.77, 63.89, 71.07, 78.73, 73.28, 99.17, 55.22, 95.2, 73.73, 80.66, 85.55, 58.4, 90.36, 74.01, 70.89, 88.68, 80.05, 73.05, 58.48, 99.0, 61.63, 68.99, 56.13, 50.37, 83.3, 76.87, 68.67, 75.3, 98.22, 63.86, 96.74, 85.18, 63.31, 78.61, 57.42, 60.23, 83.52, 53.52, 92.3, 64.13, 74.45, 83.03, 97.66, 79.37, 76.54, 57.79, 56.5, 97.04, 90.31, 59.52, 75.65, 72.91, 74.84, 94.04, 52.87, 92.11, 99.03]\n"
          ]
        }
      ]
    },
    {
      "cell_type": "markdown",
      "source": [
        "[62.83, 73.65, 98.94, 74.31, 61.18, 76.41, 93.99, 74.83, 92.83, 51.47, 95.85, 97.62, 98.43, 73.57, 63.83, 88.76, 99.65, 94.52, 70.76, 72.49, 51.45, 62.44, 84.03, 72.95, 77.84, 98.3, 99.53, 96.15, 82.2, 84.78, 71.97, 89.3, 56.17, 90.78, 63.07, 94.85, 66.81, 95.5, 51.41, 89.38, 63.83, 61.2, 87.33, 59.24, 95.19, 75.13, 54.97, 67.09, 79.32, 94.77, 59.68, 94.32, 65.02, 75.33, 67.62, 59.85, 66.76, 91.98, 90.06, 72.89, 99.18, 81.05, 58.1, 61.24, 82.83, 86.77, 82.13, 87.7, 72.84, 69.36, 96.21, 98.01, 89.48, 62.89, 88.23, 82.91, 84.54, 66.7, 60.19, 87.01, 60.27, 72.32, 50.65, 59.32, 86.42, 63.19, 95.88, 69.79, 58.48, 86.76, 99.22, 99.34, 81.32, 55.02, 91.52, 92.17, 50.61, 55.52, 82.33, 96.88]"
      ],
      "metadata": {
        "id": "GYA_OgEGYihI"
      }
    },
    {
      "cell_type": "code",
      "source": [
        "fabrica2 = []\n",
        "for i in range(100):\n",
        "  numero_aleatorio = round(random.uniform(50, 100), 2)\n",
        "  fabrica2.append(numero_aleatorio)\n",
        "print(fabrica2)"
      ],
      "metadata": {
        "colab": {
          "base_uri": "https://localhost:8080/"
        },
        "id": "2E9f_3HyYnn3",
        "outputId": "78afe927-d337-481c-f675-90a3e4ccee42"
      },
      "execution_count": null,
      "outputs": [
        {
          "output_type": "stream",
          "name": "stdout",
          "text": [
            "[78.79, 68.08, 91.26, 65.1, 69.22, 84.36, 99.2, 59.97, 77.82, 70.79, 50.27, 88.84, 97.96, 60.91, 94.21, 74.83, 62.29, 96.5, 97.61, 81.95, 92.3, 88.65, 88.72, 86.4, 87.63, 70.42, 71.9, 71.34, 55.86, 62.63, 51.93, 98.63, 63.11, 67.23, 99.08, 68.53, 83.12, 76.07, 55.8, 71.03, 89.59, 65.71, 66.96, 63.99, 96.91, 95.5, 56.22, 75.06, 75.85, 64.91, 80.57, 84.12, 88.85, 99.59, 62.45, 98.48, 73.07, 68.29, 54.06, 86.34, 60.51, 76.3, 53.09, 84.81, 66.68, 88.89, 80.38, 63.11, 77.9, 52.22, 62.13, 70.46, 60.67, 61.81, 88.37, 78.15, 74.22, 58.36, 67.53, 78.8, 82.26, 73.96, 55.11, 96.88, 74.63, 97.5, 54.71, 66.68, 63.54, 76.42, 67.77, 82.76, 93.23, 53.94, 93.43, 69.99, 86.27, 66.16, 80.95, 94.19]\n"
          ]
        }
      ]
    },
    {
      "cell_type": "markdown",
      "source": [
        "[55.84, 55.13, 54.2, 90.64, 61.09, 80.43, 58.66, 82.77, 72.11, 67.55, 96.32, 98.2, 69.55, 79.33, 56.21, 88.13, 88.97, 85.73, 98.14, 82.98, 93.56, 63.06, 78.84, 71.78, 53.53, 90.42, 73.68, 61.09, 81.9, 79.39, 75.28, 79.98, 70.48, 58.97, 87.02, 56.41, 53.26, 76.38, 56.55, 70.78, 56.48, 72.31, 94.07, 95.6, 69.9, 91.53, 99.18, 88.15, 79.06, 51.92, 79.69, 70.49, 66.49, 81.2, 64.13, 77.94, 57.07, 99.86, 97.57, 68.52, 92.68, 67.93, 83.64, 62.75, 75.25, 50.42, 95.27, 86.53, 65.95, 66.79, 50.45, 51.52, 77.59, 80.23, 95.23, 82.15, 50.68, 87.8, 51.35, 99.27, 86.35, 82.8, 87.12, 55.94, 50.31, 70.84, 65.66, 89.05, 78.41, 52.38, 73.91, 51.32, 91.8, 99.25, 74.2, 66.47, 85.12, 89.93, 66.51, 63.38]"
      ],
      "metadata": {
        "id": "OSksJWWXYvKw"
      }
    },
    {
      "cell_type": "code",
      "source": [
        "#Libreria python para graficar valores\n",
        "import matplotlib.pyplot as plt"
      ],
      "metadata": {
        "id": "G4Ru9ndXY30L"
      },
      "execution_count": null,
      "outputs": []
    },
    {
      "cell_type": "code",
      "source": [
        "plt.hist(fabrica1)\n",
        "plt.title(\"Producción diaria de la Fabrica 1\")\n"
      ],
      "metadata": {
        "colab": {
          "base_uri": "https://localhost:8080/",
          "height": 470
        },
        "id": "HDVHkOZ8Y_0K",
        "outputId": "e511f99c-84f3-46fa-a6eb-7493baa6c35d"
      },
      "execution_count": null,
      "outputs": [
        {
          "output_type": "execute_result",
          "data": {
            "text/plain": [
              "Text(0.5, 1.0, 'Producción diaria de la Fabrica 1')"
            ]
          },
          "metadata": {},
          "execution_count": 23
        },
        {
          "output_type": "display_data",
          "data": {
            "text/plain": [
              "<Figure size 640x480 with 1 Axes>"
            ],
            "image/png": "[encoded data removed]"
          },
          "metadata": {}
        }
      ]
    },
    {
      "cell_type": "code",
      "source": [
        "plt.hist(fabrica2)\n",
        "plt.title(\"Producción diaria de la Fabrica 2\")"
      ],
      "metadata": {
        "colab": {
          "base_uri": "https://localhost:8080/",
          "height": 470
        },
        "id": "TTWP6SyxaI6J",
        "outputId": "07977f2d-1ec7-49f7-aaf4-7c8702a71985"
      },
      "execution_count": null,
      "outputs": [
        {
          "output_type": "execute_result",
          "data": {
            "text/plain": [
              "Text(0.5, 1.0, 'Producción diaria de la Fabrica 2')"
            ]
          },
          "metadata": {},
          "execution_count": 24
        },
        {
          "output_type": "display_data",
          "data": {
            "text/plain": [
              "<Figure size 640x480 with 1 Axes>"
            ],
            "image/png": "[encoded data removed]"
          },
          "metadata": {}
        }
      ]
    },
    {
      "cell_type": "code",
      "source": [
        "media1 = mean(fabrica1)\n",
        "mediana1= median(fabrica1)\n",
        "moda1 = mode(fabrica1)\n",
        "\n",
        "print(\"Valores de la fabrica 1\")\n",
        "print(\"La media es=\",media1)\n",
        "print(\"La mediana es=\",mediana1)\n",
        "print(\"La moda es=\",moda1)"
      ],
      "metadata": {
        "colab": {
          "base_uri": "https://localhost:8080/"
        },
        "id": "B6wO1N6daRVA",
        "outputId": "cfdb6098-b60f-4928-acae-e82fbf1471a0"
      },
      "execution_count": null,
      "outputs": [
        {
          "output_type": "stream",
          "name": "stdout",
          "text": [
            "Valores de la fabrica 1\n",
            "La media es= 75.1172\n",
            "La mediana es= 74.575\n",
            "La moda es= 58.4\n"
          ]
        }
      ]
    },
    {
      "cell_type": "markdown",
      "source": [
        "Valores de la fabrica 1\n",
        "La media es= 77.8079\n",
        "La mediana es= 78.58\n",
        "La moda es= 63.83"
      ],
      "metadata": {
        "id": "VTfyLjpWaSxj"
      }
    },
    {
      "cell_type": "code",
      "source": [
        "media2 = mean(fabrica2)\n",
        "mediana2= median(fabrica2)\n",
        "moda2 = mode(fabrica2)\n",
        "\n",
        "print(\"Valores de la fabrica 2\")\n",
        "print(\"La media es=\",media2)\n",
        "print(\"La mediana es=\",mediana2)\n",
        "print(\"La moda es=\",moda2)"
      ],
      "metadata": {
        "colab": {
          "base_uri": "https://localhost:8080/"
        },
        "id": "r26MsoKoaY7F",
        "outputId": "efb76d59-076a-4912-a90b-40a3982e8c14"
      },
      "execution_count": null,
      "outputs": [
        {
          "output_type": "stream",
          "name": "stdout",
          "text": [
            "Valores de la fabrica 2\n",
            "La media es= 75.6163\n",
            "La mediana es= 74.72999999999999\n",
            "La moda es= 63.11\n"
          ]
        }
      ]
    },
    {
      "cell_type": "markdown",
      "source": [
        "Valores de la fabrica 2\n",
        "La media es= 74.6973\n",
        "La mediana es= 75.265\n",
        "La moda es= 61.09"
      ],
      "metadata": {
        "id": "XsDXewZjaahc"
      }
    },
    {
      "cell_type": "code",
      "source": [
        "fig, (ax1, ax2) = plt.subplots(nrows=1, ncols=2, figsize=(10,5))\n",
        "ax1.hist(fabrica1)\n",
        "ax2.hist(fabrica2)\n",
        "plt.show()"
      ],
      "metadata": {
        "colab": {
          "base_uri": "https://localhost:8080/",
          "height": 445
        },
        "id": "FLwLeYQPakpI",
        "outputId": "3f51320b-a921-4dca-e7a8-d3bbb7f69f22"
      },
      "execution_count": null,
      "outputs": [
        {
          "output_type": "display_data",
          "data": {
            "text/plain": [
              "<Figure size 1000x500 with 2 Axes>"
            ],
            "image/png": "[encoded data removed]"
          },
          "metadata": {}
        }
      ]
    },
    {
      "cell_type": "code",
      "source": [
        "plt.hist(fabrica1,bins=10, alpha=0.2, color=\"b\", edgecolor=\"black\")\n",
        "plt.axvline(media1, color=\"b\", linestyle=\"dashed\", linewidth=2, label= \"Media\")\n",
        "plt.axvline(mediana1, color=\"r\", linestyle=\"dashed\",linewidth=2, label=\"Mediana\")\n",
        "plt.axvline(moda1, color=\"y\", linestyle=\"dashed\",linewidth=2, label=\"Moda\")\n",
        "plt.xlabel(\"Valor\")\n",
        "plt.ylabel(\"Frecuencia\")\n",
        "plt.title(\"Producción diaria de la Fabrica 1\")\n",
        "plt.legend()\n",
        "plt.show()"
      ],
      "metadata": {
        "colab": {
          "base_uri": "https://localhost:8080/",
          "height": 472
        },
        "id": "EvgNOPNGap2i",
        "outputId": "8619a417-4f0d-479a-e742-c74aa7a350ad"
      },
      "execution_count": null,
      "outputs": [
        {
          "output_type": "display_data",
          "data": {
            "text/plain": [
              "<Figure size 640x480 with 1 Axes>"
            ],
            "image/png": "[encoded data removed]"
          },
          "metadata": {}
        }
      ]
    },
    {
      "cell_type": "code",
      "source": [
        "plt.hist(fabrica2,bins=10, alpha=0.2, color=\"b\", edgecolor=\"black\")\n",
        "plt.axvline(media2, color=\"b\", linestyle=\"dashed\", linewidth=2, label= \"Media\")\n",
        "plt.axvline(mediana2, color=\"r\", linestyle=\"dashed\",linewidth=2, label=\"Mediana\")\n",
        "plt.axvline(moda2, color=\"y\", linestyle=\"dashed\",linewidth=2, label=\"Moda\")\n",
        "plt.xlabel(\"Valor\")\n",
        "plt.ylabel(\"Frecuencia\")\n",
        "plt.title(\"Producción diaria de la Fabrica 2\")\n",
        "plt.legend()\n",
        "plt.show()"
      ],
      "metadata": {
        "colab": {
          "base_uri": "https://localhost:8080/",
          "height": 472
        },
        "id": "r_udiknLauVr",
        "outputId": "03253efe-eb97-4b88-8b5c-21580b288dae"
      },
      "execution_count": null,
      "outputs": [
        {
          "output_type": "display_data",
          "data": {
            "text/plain": [
              "<Figure size 640x480 with 1 Axes>"
            ],
            "image/png": "[encoded data removed]"
          },
          "metadata": {}
        }
      ]
    }
  ]
}